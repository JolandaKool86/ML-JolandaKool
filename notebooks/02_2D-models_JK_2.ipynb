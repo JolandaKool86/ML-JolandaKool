{
 "cells": [
  {
   "cell_type": "code",
   "execution_count": 35,
   "metadata": {},
   "outputs": [],
   "source": [
    "from mads_datasets.base import BaseDatastreamer\n",
    "from mltrainer.preprocessors import BasePreprocessor\n",
    "from pathlib import Path\n",
    "import pandas as pd\n",
    "import seaborn as sns\n",
    "from sklearn.metrics import confusion_matrix\n",
    "from torch import nn\n",
    "import torch\n",
    "\n",
    "import sys\n",
    "sys.path.append('../')\n",
    "from src import datasets, metrics"
   ]
  },
  {
   "cell_type": "code",
   "execution_count": 36,
   "metadata": {},
   "outputs": [
    {
     "data": {
      "text/plain": [
       "(PosixPath('/home/azureuser/code/mads-exam-24/data/heart_train.parq'),\n",
       " PosixPath('/home/azureuser/code/mads-exam-24/data/heart_test.parq'))"
      ]
     },
     "execution_count": 36,
     "metadata": {},
     "output_type": "execute_result"
    }
   ],
   "source": [
    "trainfile = Path('../data/heart_train.parq').resolve()\n",
    "testfile = Path('../data/heart_test.parq').resolve()\n",
    "# trainfile = Path('../data/heart_big_train.parq').resolve()\n",
    "# testfile = Path('../data/heart_big_test.parq').resolve()\n",
    "trainfile, testfile"
   ]
  },
  {
   "cell_type": "markdown",
   "metadata": {},
   "source": [
    "Get the 1D data into a 2D matrix"
   ]
  },
  {
   "cell_type": "code",
   "execution_count": 37,
   "metadata": {},
   "outputs": [],
   "source": [
    "shape = (16, 12)\n",
    "traindataset = datasets.HeartDataset2D(trainfile, target=\"target\", shape=shape)\n",
    "testdataset = datasets.HeartDataset2D(testfile, target=\"target\", shape=shape)\n",
    "traindataset, testdataset\n",
    "if torch.backends.mps.is_available() and torch.backends.mps.is_built():\n",
    "    device = torch.device(\"mps\")\n",
    "    print(\"Using MPS\")\n",
    "else:\n",
    "    device = \"cpu\"\n",
    "\n",
    "traindataset.to(device)\n",
    "testdataset.to(device)\n"
   ]
  },
  {
   "cell_type": "markdown",
   "metadata": {},
   "source": [
    "Let's see how that works. \n",
    "Compare this to the 1D data to see if you understand the transformation."
   ]
  },
  {
   "cell_type": "code",
   "execution_count": 38,
   "metadata": {},
   "outputs": [
    {
     "data": {
      "text/plain": [
       "(torch.Size([1, 16, 12]), tensor(1))"
      ]
     },
     "execution_count": 38,
     "metadata": {},
     "output_type": "execute_result"
    },
    {
     "data": {
      "image/png": "[encoded data removed]",
      "text/plain": [
       "<Figure size 640x480 with 2 Axes>"
      ]
     },
     "metadata": {},
     "output_type": "display_data"
    }
   ],
   "source": [
    "x, y = traindataset[0]\n",
    "# Assuming your tensor is named 'tensor'\n",
    "viz = x.squeeze().cpu().numpy()\n",
    "sns.heatmap(viz, cmap='rainbow')\n",
    "x.shape, y"
   ]
  },
  {
   "cell_type": "markdown",
   "metadata": {},
   "source": [
    "Load into a streamer"
   ]
  },
  {
   "cell_type": "code",
   "execution_count": 39,
   "metadata": {},
   "outputs": [
    {
     "data": {
      "text/plain": [
       "(363, 90)"
      ]
     },
     "execution_count": 39,
     "metadata": {},
     "output_type": "execute_result"
    }
   ],
   "source": [
    "trainstreamer = BaseDatastreamer(traindataset, preprocessor = BasePreprocessor(), batchsize=32)\n",
    "teststreamer = BaseDatastreamer(testdataset, preprocessor = BasePreprocessor(), batchsize=32)\n",
    "len(trainstreamer), len(teststreamer)"
   ]
  },
  {
   "cell_type": "code",
   "execution_count": 40,
   "metadata": {},
   "outputs": [
    {
     "data": {
      "text/plain": [
       "(torch.Size([32, 1, 16, 12]), torch.Size([32]))"
      ]
     },
     "execution_count": 40,
     "metadata": {},
     "output_type": "execute_result"
    }
   ],
   "source": [
    "x, y = next(trainstreamer.stream())\n",
    "x.shape, y.shape"
   ]
  },
  {
   "cell_type": "markdown",
   "metadata": {},
   "source": [
    "The ConvBlock makes it easier to stack block in the model.\n",
    "Feel free to experiment with other architectures here:\n",
    "- adding ideas like resnet, googlenet, squeeze-excite, etc.\n",
    "- add additional layers like dropout, batchnorm, etc.\n",
    "- experiment with different ways to go from 4D to 2D tensors"
   ]
  },
  {
   "cell_type": "code",
   "execution_count": 41,
   "metadata": {},
   "outputs": [],
   "source": [
    "class ConvBlock(nn.Module):\n",
    "    def __init__(self, in_channels, out_channels):\n",
    "        super().__init__()\n",
    "        self.conv = nn.Sequential(\n",
    "            nn.Conv2d(in_channels, out_channels, kernel_size=3, stride=1, padding=1),\n",
    "            nn.ReLU(),\n",
    "            nn.Conv2d(out_channels, out_channels, kernel_size=3, stride=1, padding=1),\n",
    "            nn.ReLU(),\n",
    "        )\n",
    "    def forward(self, x):\n",
    "        return self.conv(x)"
   ]
  },
  {
   "cell_type": "code",
   "execution_count": 42,
   "metadata": {},
   "outputs": [],
   "source": [
    "import torch\n",
    "class CNN(nn.Module):\n",
    "    def __init__(self, config: dict) -> None:\n",
    "        super().__init__()\n",
    "        hidden = config['hidden']\n",
    "        self.convolutions = nn.ModuleList([\n",
    "            ConvBlock(1, hidden),\n",
    "        ])\n",
    "\n",
    "        for i in range(config['num_layers']):\n",
    "            self.convolutions.extend([ConvBlock(hidden, hidden), nn.ReLU()])\n",
    "        self.convolutions.append(nn.MaxPool2d(2, 2))\n",
    "\n",
    "        self.dense = nn.Sequential(\n",
    "            nn.Flatten(),\n",
    "            nn.Linear((8*6) * hidden, hidden),\n",
    "            nn.ReLU(),\n",
    "            nn.Linear(hidden, config['num_classes']),\n",
    "        )\n",
    "\n",
    "    def forward(self, x: torch.Tensor) -> torch.Tensor:\n",
    "        for conv in self.convolutions:\n",
    "            x = conv(x)\n",
    "        x = self.dense(x)\n",
    "        return x"
   ]
  },
  {
   "cell_type": "code",
   "execution_count": 43,
   "metadata": {},
   "outputs": [
    {
     "name": "stderr",
     "output_type": "stream",
     "text": [
      "\u001b[32m2024-06-29 10:10:06.653\u001b[0m | \u001b[1mINFO    \u001b[0m | \u001b[36msrc.models\u001b[0m:\u001b[36m__init__\u001b[0m:\u001b[36m37\u001b[0m - \u001b[1mActivation map size: 48\u001b[0m\n",
      "\u001b[32m2024-06-29 10:10:06.654\u001b[0m | \u001b[1mINFO    \u001b[0m | \u001b[36msrc.models\u001b[0m:\u001b[36m__init__\u001b[0m:\u001b[36m38\u001b[0m - \u001b[1mInput linear: 768\u001b[0m\n"
     ]
    },
    {
     "data": {
      "text/plain": [
       "torch.Size([32, 2])"
      ]
     },
     "execution_count": 43,
     "metadata": {},
     "output_type": "execute_result"
    }
   ],
   "source": [
    "from src import models\n",
    "config = {\n",
    "    'hidden' : 16,\n",
    "    'num_layers' : 1,\n",
    "    'num_classes' : 2, # 5 for big dataset\n",
    "    'shape' : shape,\n",
    "\n",
    "}\n",
    "model = models.CNN(config)\n",
    "model.to(device)\n",
    "model(x).shape"
   ]
  },
  {
   "cell_type": "code",
   "execution_count": 44,
   "metadata": {},
   "outputs": [
    {
     "name": "stderr",
     "output_type": "stream",
     "text": [
      "\u001b[32m2024-06-29 10:10:06.679\u001b[0m | \u001b[1mINFO    \u001b[0m | \u001b[36msrc.models\u001b[0m:\u001b[36m__init__\u001b[0m:\u001b[36m37\u001b[0m - \u001b[1mActivation map size: 48\u001b[0m\n",
      "\u001b[32m2024-06-29 10:10:06.680\u001b[0m | \u001b[1mINFO    \u001b[0m | \u001b[36msrc.models\u001b[0m:\u001b[36m__init__\u001b[0m:\u001b[36m38\u001b[0m - \u001b[1mInput linear: 1536\u001b[0m\n"
     ]
    },
    {
     "data": {
      "text/plain": [
       "torch.Size([32, 5])"
      ]
     },
     "execution_count": 44,
     "metadata": {},
     "output_type": "execute_result"
    }
   ],
   "source": [
    "from src import models\n",
    "from ray import tune\n",
    "from ray.tune import CLIReporter\n",
    "from ray.tune.schedulers.hb_bohb import HyperBandForBOHB\n",
    "from ray.tune.search.bohb import TuneBOHB\n",
    "config = {\n",
    "    'hidden' : 32,\n",
    "    'num_layers' : 3,\n",
    "    'num_classes' : 5, # 5 for big dataset\n",
    "    'dropout_rate': 0.1,\n",
    "    'shape' : shape,\n",
    "\n",
    "}\n",
    "model = models.CNN(config)\n",
    "model.to(device)\n",
    "model(x).shape"
   ]
  },
  {
   "cell_type": "code",
   "execution_count": 45,
   "metadata": {},
   "outputs": [],
   "source": [
    "yhat = model(x)"
   ]
  },
  {
   "cell_type": "markdown",
   "metadata": {},
   "source": [
    "The data is unbalanced, so we are interested in much more than just accuracy."
   ]
  },
  {
   "cell_type": "code",
   "execution_count": 46,
   "metadata": {},
   "outputs": [],
   "source": [
    "f1micro = metrics.F1Score(average='micro')\n",
    "f1macro = metrics.F1Score(average='macro')\n",
    "precision = metrics.Precision('micro')\n",
    "recall = metrics.Recall('macro')\n",
    "accuracy = metrics.Accuracy()"
   ]
  },
  {
   "cell_type": "code",
   "execution_count": 47,
   "metadata": {},
   "outputs": [
    {
     "data": {
      "text/plain": [
       "<Experiment: artifact_location='/home/azureuser/code/mads-exam-24/notebooks/mlruns/1', creation_time=1718732376163, experiment_id='1', last_update_time=1718732376163, lifecycle_stage='active', name='2D conv model', tags={}>"
      ]
     },
     "execution_count": 47,
     "metadata": {},
     "output_type": "execute_result"
    }
   ],
   "source": [
    "import mlflow\n",
    "mlflow.set_tracking_uri(\"sqlite:///mads_exam.db\")\n",
    "mlflow.set_experiment(\"2D conv model\")"
   ]
  },
  {
   "cell_type": "code",
   "execution_count": 48,
   "metadata": {},
   "outputs": [
    {
     "name": "stderr",
     "output_type": "stream",
     "text": [
      "\u001b[32m2024-06-29 10:10:06.887\u001b[0m | \u001b[1mINFO    \u001b[0m | \u001b[36mmltrainer.trainer\u001b[0m:\u001b[36mdir_add_timestamp\u001b[0m:\u001b[36m29\u001b[0m - \u001b[1mLogging to heart2D/20240629-101006\u001b[0m\n",
      "100%|\u001b[38;2;30;71;6m██████████\u001b[0m| 363/363 [00:07<00:00, 50.51it/s]\n",
      "\u001b[32m2024-06-29 10:10:15.328\u001b[0m | \u001b[1mINFO    \u001b[0m | \u001b[36mmltrainer.trainer\u001b[0m:\u001b[36mreport\u001b[0m:\u001b[36m191\u001b[0m - \u001b[1mEpoch 0 train 0.5611 test 0.4922 metric ['0.7375', '0.7375', '0.6748', '0.7375', '0.6912']\u001b[0m\n",
      "100%|\u001b[38;2;30;71;6m██████████\u001b[0m| 363/363 [00:06<00:00, 51.99it/s]\n",
      "\u001b[32m2024-06-29 10:10:23.543\u001b[0m | \u001b[1mINFO    \u001b[0m | \u001b[36mmltrainer.trainer\u001b[0m:\u001b[36mreport\u001b[0m:\u001b[36m191\u001b[0m - \u001b[1mEpoch 1 train 0.3804 test 0.2811 metric ['0.8743', '0.8743', '0.8468', '0.8743', '0.8681']\u001b[0m\n",
      "100%|\u001b[38;2;30;71;6m██████████\u001b[0m| 363/363 [00:07<00:00, 51.53it/s]\n",
      "\u001b[32m2024-06-29 10:10:31.816\u001b[0m | \u001b[1mINFO    \u001b[0m | \u001b[36mmltrainer.trainer\u001b[0m:\u001b[36mreport\u001b[0m:\u001b[36m191\u001b[0m - \u001b[1mEpoch 2 train 0.2409 test 0.1729 metric ['0.9247', '0.9247', '0.9055', '0.9247', '0.9241']\u001b[0m\n",
      "100%|\u001b[38;2;30;71;6m██████████\u001b[0m| 363/363 [00:10<00:00, 35.36it/s]\n",
      "\u001b[32m2024-06-29 10:10:43.322\u001b[0m | \u001b[1mINFO    \u001b[0m | \u001b[36mmltrainer.trainer\u001b[0m:\u001b[36mreport\u001b[0m:\u001b[36m191\u001b[0m - \u001b[1mEpoch 3 train 0.1720 test 0.1241 metric ['0.9517', '0.9517', '0.9364', '0.9517', '0.9353']\u001b[0m\n",
      "100%|\u001b[38;2;30;71;6m██████████\u001b[0m| 363/363 [00:23<00:00, 15.18it/s]\n",
      "\u001b[32m2024-06-29 10:11:09.955\u001b[0m | \u001b[1mINFO    \u001b[0m | \u001b[36mmltrainer.trainer\u001b[0m:\u001b[36mreport\u001b[0m:\u001b[36m191\u001b[0m - \u001b[1mEpoch 4 train 0.1314 test 0.1438 metric ['0.9413', '0.9413', '0.9230', '0.9413', '0.9206']\u001b[0m\n",
      "100%|\u001b[38;2;30;71;6m██████████\u001b[0m| 5/5 [01:03<00:00, 12.61s/it]\n"
     ]
    }
   ],
   "source": [
    "from mltrainer import Trainer, TrainerSettings, ReportTypes\n",
    "loss_fn = torch.nn.CrossEntropyLoss()\n",
    "\n",
    "with mlflow.start_run():\n",
    "    optimizer = torch.optim.Adam\n",
    "\n",
    "    settings = TrainerSettings(\n",
    "        epochs=5,\n",
    "        metrics=[accuracy, f1micro, f1macro, precision, recall],\n",
    "        logdir=\"heart2D\",\n",
    "        train_steps=len(trainstreamer),\n",
    "        valid_steps=len(teststreamer),\n",
    "        reporttypes=[ReportTypes.TENSORBOARD, ReportTypes.MLFLOW],\n",
    "        scheduler_kwargs=None,\n",
    "        earlystop_kwargs=None\n",
    "    )\n",
    "\n",
    " #   trainer = Trainer(\n",
    "        # model=model,\n",
    "        # settings=settings,\n",
    "        # loss_fn=loss_fn,\n",
    "        # optimizer=torch.optim.Adam,\n",
    "        # traindataloader=trainstreamer.stream(),\n",
    "        # validdataloader=teststreamer.stream(),\n",
    "        # scheduler=None,\n",
    "       # )\n",
    "    # modify the tags when you change them!\n",
    "    mlflow.set_tag(\"model\", \"Conv2D\")\n",
    "    mlflow.set_tag(\"dataset\", \"heart_small_binary\")\n",
    "    mlflow.log_param(\"scheduler\", \"None\")\n",
    "    mlflow.log_param(\"earlystop\", \"None\")\n",
    "\n",
    "    mlflow.log_params(config)\n",
    "    mlflow.log_param(\"epochs\", settings.epochs)\n",
    "    mlflow.log_param(\"shape0\", shape[0])\n",
    "    mlflow.log_param(\"optimizer\", str(optimizer))\n",
    "    mlflow.log_params(settings.optimizer_kwargs)\n",
    "\n",
    "    trainer = Trainer(\n",
    "        model=model,\n",
    "        settings=settings,\n",
    "        loss_fn=loss_fn,\n",
    "        optimizer=optimizer,\n",
    "        traindataloader=trainstreamer.stream(),\n",
    "        validdataloader=teststreamer.stream(),\n",
    "        scheduler=None,\n",
    "        )\n",
    "    trainer.loop()\n"
   ]
  },
  {
   "cell_type": "code",
   "execution_count": 49,
   "metadata": {},
   "outputs": [],
   "source": [
    "model1 = model"
   ]
  },
  {
   "cell_type": "code",
   "execution_count": 50,
   "metadata": {},
   "outputs": [
    {
     "data": {
      "text/plain": [
       "[Text(0.5, 23.52222222222222, 'Predicted'),\n",
       " Text(50.722222222222214, 0.5, 'Target')]"
      ]
     },
     "execution_count": 50,
     "metadata": {},
     "output_type": "execute_result"
    },
    {
     "data": {
      "image/png": "[encoded data removed]",
      "text/plain": [
       "<Figure size 640x480 with 2 Axes>"
      ]
     },
     "metadata": {},
     "output_type": "display_data"
    }
   ],
   "source": [
    "import seaborn as sns\n",
    "import numpy as np\n",
    "\n",
    "y_true = []\n",
    "y_pred = []\n",
    "\n",
    "testdata = teststreamer.stream()\n",
    "for _ in range(len(teststreamer)):\n",
    "    X, y = next(testdata)\n",
    "    yhat = model(X)\n",
    "    yhat = yhat.argmax(dim=1) # we get the one with the highest probability\n",
    "    y_pred.append(yhat.cpu().tolist())\n",
    "    y_true.append(y.cpu().tolist())\n",
    "\n",
    "yhat = [x for y in y_pred for x in y]\n",
    "y = [x for y in y_true for x in y]\n",
    "\n",
    "cfm = confusion_matrix(y, yhat)\n",
    "# cfm = cfm / np.sum(cfm, axis=1, keepdims=True)\n",
    "\n",
    "plot = sns.heatmap(cfm, annot=cfm, fmt=\".3f\")\n",
    "plot.set(xlabel=\"Predicted\", ylabel=\"Target\")"
   ]
  },
  {
   "cell_type": "code",
   "execution_count": 51,
   "metadata": {},
   "outputs": [
    {
     "data": {
      "image/png": "[encoded data removed]",
      "text/plain": [
       "<Figure size 600x400 with 2 Axes>"
      ]
     },
     "metadata": {},
     "output_type": "display_data"
    }
   ],
   "source": [
    "import seaborn as sns\n",
    "import numpy as np\n",
    "import matplotlib.pyplot as plt\n",
    "from sklearn.metrics import confusion_matrix, accuracy_score\n",
    "\n",
    "def evaluate_confusion_matrix(model, teststreamer):\n",
    "    y_true = []\n",
    "    y_pred = []\n",
    "\n",
    "    testdata = teststreamer.stream()\n",
    "    for _ in range(len(teststreamer)):\n",
    "        X, y = next(testdata)\n",
    "        yhat = model(X)\n",
    "        yhat = yhat.argmax(dim=1).cpu().tolist()  # Convert to list\n",
    "        y_pred.extend(yhat)\n",
    "        y_true.extend(y.cpu().tolist())\n",
    "\n",
    "    cfm = confusion_matrix(y_true, y_pred)  # Calculate confusion matrix\n",
    "    acc = accuracy_score(y_true, y_pred)  # Calculate accuracy\n",
    "\n",
    "    return cfm, acc\n",
    "\n",
    "# Example usage:\n",
    "# Assuming you have one model and its corresponding teststreamer\n",
    "model = model1  # Trained model\n",
    "teststreamer = teststreamer  # Test streamer\n",
    "\n",
    "# Evaluate confusion matrix and accuracy for the model\n",
    "cfm, acc = evaluate_confusion_matrix(model, teststreamer)\n",
    "\n",
    "# Plotting\n",
    "plt.figure(figsize=(6, 4))\n",
    "sns.heatmap(cfm, annot=True, fmt=\"d\", cmap=\"Blues\")\n",
    "plt.title(f\"Confusion Matrix - Accuracy: {acc:.4f}\")\n",
    "plt.suptitle(\"Start model - Junior scientist\")\n",
    "plt.xlabel(\"Predicted\")\n",
    "plt.ylabel(\"Target\")\n",
    "plt.tight_layout()\n",
    "plt.savefig(\"confusion_matrix_with_accuracy.png\")\n",
    "plt.show()"
   ]
  },
  {
   "cell_type": "markdown",
   "metadata": {},
   "source": [
    "Update model to 6 convolutional layers including Max pooling and add a dropout layer at the end. "
   ]
  },
  {
   "cell_type": "code",
   "execution_count": 52,
   "metadata": {},
   "outputs": [],
   "source": [
    "import torch\n",
    "import torch.nn as nn\n",
    "\n",
    "class ConvBlock(nn.Module):\n",
    "    def __init__(self, in_channels, out_channels):\n",
    "        super().__init__()\n",
    "        self.conv = nn.Sequential(\n",
    "            nn.Conv2d(in_channels, out_channels, kernel_size=3, stride=1, padding=1),\n",
    "            nn.ReLU(),\n",
    "            nn.BatchNorm2d(out_channels),  # Batch normalization added\n",
    "            nn.Conv2d(out_channels, out_channels, kernel_size=3, stride=1, padding=1),\n",
    "            nn.ReLU(),\n",
    "            nn.BatchNorm2d(out_channels),  # Batch normalization added\n",
    "            nn.MaxPool2d(kernel_size=2, stride=2)  # Max pooling added\n",
    "        )\n",
    "        self.dropout = nn.Dropout(p=0.25)  # Dropout layer added\n",
    "\n",
    "    def forward(self, x):\n",
    "        return self.dropout(self.conv(x))"
   ]
  },
  {
   "cell_type": "code",
   "execution_count": 53,
   "metadata": {},
   "outputs": [],
   "source": [
    "class CNN(nn.Module):\n",
    "    def __init__(self, config: dict) -> None:\n",
    "        super().__init__()\n",
    "        hidden = config['hidden']\n",
    "        self.convolutions = nn.ModuleList([\n",
    "            ConvBlock(1, hidden),\n",
    "        ])\n",
    "\n",
    "        for i in range(config['num_layers'] - 1):  # Adjusted for 6 convolutional layers\n",
    "            self.convolutions.extend([ConvBlock(hidden, hidden)])\n",
    "\n",
    "        self.dense = nn.Sequential(\n",
    "            nn.Flatten(),\n",
    "            nn.Linear((8 * 6) * hidden, hidden),\n",
    "            nn.ReLU(),\n",
    "            nn.Dropout(p=0.5),  # Second dropout layer added\n",
    "            nn.Linear(hidden, config['num_classes']),\n",
    "        )\n",
    "\n",
    "    def forward(self, x: torch.Tensor) -> torch.Tensor:\n",
    "        for conv in self.convolutions:\n",
    "            x = conv(x)\n",
    "        x = self.dense(x)\n",
    "        return x"
   ]
  },
  {
   "cell_type": "code",
   "execution_count": 54,
   "metadata": {},
   "outputs": [
    {
     "name": "stderr",
     "output_type": "stream",
     "text": [
      "\u001b[32m2024-06-29 10:11:14.785\u001b[0m | \u001b[1mINFO    \u001b[0m | \u001b[36msrc.models\u001b[0m:\u001b[36m__init__\u001b[0m:\u001b[36m37\u001b[0m - \u001b[1mActivation map size: 48\u001b[0m\n",
      "\u001b[32m2024-06-29 10:11:14.786\u001b[0m | \u001b[1mINFO    \u001b[0m | \u001b[36msrc.models\u001b[0m:\u001b[36m__init__\u001b[0m:\u001b[36m38\u001b[0m - \u001b[1mInput linear: 768\u001b[0m\n"
     ]
    },
    {
     "data": {
      "text/plain": [
       "torch.Size([32, 2])"
      ]
     },
     "execution_count": 54,
     "metadata": {},
     "output_type": "execute_result"
    }
   ],
   "source": [
    "from src import models\n",
    "from ray import tune\n",
    "from ray.tune import CLIReporter\n",
    "from ray.tune.schedulers.hb_bohb import HyperBandForBOHB\n",
    "from ray.tune.search.bohb import TuneBOHB\n",
    "config = {\n",
    "    'hidden' : 16,\n",
    "    'num_layers' : 6,\n",
    "    'num_classes' : 2, # 5 for big dataset\n",
    "    'dropout_rate': 0.25,\n",
    "    'shape' : shape,\n",
    "\n",
    "}\n",
    "model = models.CNN(config)\n",
    "model.to(device)\n",
    "model(x).shape"
   ]
  },
  {
   "cell_type": "code",
   "execution_count": 55,
   "metadata": {},
   "outputs": [
    {
     "data": {
      "image/png": "[encoded data removed]",
      "text/plain": [
       "<Figure size 600x400 with 2 Axes>"
      ]
     },
     "metadata": {},
     "output_type": "display_data"
    }
   ],
   "source": [
    "import seaborn as sns\n",
    "import numpy as np\n",
    "import matplotlib.pyplot as plt\n",
    "from sklearn.metrics import confusion_matrix, accuracy_score\n",
    "\n",
    "def evaluate_confusion_matrix(model, teststreamer):\n",
    "    y_true = []\n",
    "    y_pred = []\n",
    "\n",
    "    testdata = teststreamer.stream()\n",
    "    for _ in range(len(teststreamer)):\n",
    "        X, y = next(testdata)\n",
    "        yhat = model(X)\n",
    "        yhat = yhat.argmax(dim=1).cpu().tolist()  # Convert to list\n",
    "        y_pred.extend(yhat)\n",
    "        y_true.extend(y.cpu().tolist())\n",
    "\n",
    "    cfm = confusion_matrix(y_true, y_pred)  # Calculate confusion matrix\n",
    "    acc = accuracy_score(y_true, y_pred)  # Calculate accuracy\n",
    "\n",
    "    return cfm, acc\n",
    "\n",
    "# Example usage:\n",
    "# Assuming you have one model and its corresponding teststreamer\n",
    "model = model1  # Trained model\n",
    "teststreamer = teststreamer  # Test streamer\n",
    "\n",
    "# Evaluate confusion matrix and accuracy for the model\n",
    "cfm, acc = evaluate_confusion_matrix(model, teststreamer)\n",
    "\n",
    "# Plotting\n",
    "plt.figure(figsize=(6, 4))\n",
    "sns.heatmap(cfm, annot=True, fmt=\"d\", cmap=\"Blues\")\n",
    "plt.title(f\"Confusion Matrix - Accuracy: {acc:.4f}\")\n",
    "plt.suptitle(\"Updated model - 6 layers\")\n",
    "plt.xlabel(\"Predicted\")\n",
    "plt.ylabel(\"Target\")\n",
    "plt.tight_layout()\n",
    "plt.savefig(\"confusion_matrix_with_accuracy_2.png\")\n",
    "plt.show()"
   ]
  }
 ],
 "metadata": {
  "kernelspec": {
   "display_name": ".venv",
   "language": "python",
   "name": "python3"
  },
  "language_info": {
   "codemirror_mode": {
    "name": "ipython",
    "version": 3
   },
   "file_extension": ".py",
   "mimetype": "text/x-python",
   "name": "python",
   "nbconvert_exporter": "python",
   "pygments_lexer": "ipython3",
   "version": "3.11.5"
  }
 },
 "nbformat": 4,
 "nbformat_minor": 2
}

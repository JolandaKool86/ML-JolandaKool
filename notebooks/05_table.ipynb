{
 "cells": [
  {
   "cell_type": "code",
   "execution_count": 2,
   "metadata": {},
   "outputs": [
    {
     "name": "stdout",
     "output_type": "stream",
     "text": [
      "+---------+--------+-----------------------+--------------+--------+-------+-----------+------------------+-------+---------+-----------+----------+-----------+--------+----------+\n",
      "|  Model  |   NN   |       Experiment      | Tested range | Layers | Units | Optimizer |  Loss function   | Epoch | Dropout | Threshold | F1 score | precision | recall | accuracy |\n",
      "+---------+--------+-----------------------+--------------+--------+-------+-----------+------------------+-------+---------+-----------+----------+-----------+--------+----------+\n",
      "| Model A | 1D-CNN |   Benchmark Model A   |              |        |       |           |                  |       |         |           |  0.902   |    0.89   | 0.916  |  0.919   |\n",
      "| Model B | 2D-CNN |   Benchmark Model B   |              |  1.0   |  16.0 |    Adam   | CrossEntropyLoss |  5.0  |         |           |   0.94   |   0.953   | 0.928  |  0.914   |\n",
      "| Model B | 2D-CNN |     Residual layer    |              |  1.0   |  16.0 |    Adam   | CrossEntropyLoss |  5.0  |         |           |   0.96   |   0.954   | 0.965  |  0.941   |\n",
      "| Model B | 2D-CNN |    Batch norm (2x)    |              |  1.0   |  16.0 |    Adam   | CrossEntropyLoss |  5.0  |         |           |  0.942   |    0.95   | 0.935  |  0.917   |\n",
      "| Model B | 2D-CNN |        Maxpool        |              |  1.0   |  16.0 |    Adam   | CrossEntropyLoss |  5.0  |         |           |  0.947   |   0.978   | 0.918  |  0.926   |\n",
      "| Model B | 2D-CNN |    Number of layers   |     1 - 6    |  1.0   |  16.0 |    Adam   | CrossEntropyLoss |  5.0  |         |           |   0.94   |   0.953   | 0.928  |  0.914   |\n",
      "| Model B | 2D-CNN |    Number of layers   |     1 - 6    |  2.0   |  16.0 |    Adam   | CrossEntropyLoss |  5.0  |         |           |   0.93   |    0.94   | 0.921  |   0.9    |\n",
      "| Model B | 2D-CNN |    Number of layers   |     1 - 6    |  3.0   |  16.0 |    Adam   | CrossEntropyLoss |  5.0  |         |           |  0.951   |   0.935   | 0.967  |  0.928   |\n",
      "| Model B | 2D-CNN |    Number of layers   |     1 - 6    |  4.0   |  16.0 |    Adam   | CrossEntropyLoss |  5.0  |         |           |  0.929   |   0.922   | 0.936  |  0.896   |\n",
      "| Model B | 2D-CNN |    Number of layers   |     1 - 6    |  5.0   |  16.0 |    Adam   | CrossEntropyLoss |  5.0  |         |           |  0.839   |   0.723   |  1.0   |  0.723   |\n",
      "| Model B | 2D-CNN |    Number of layers   |     1 - 6    |  6.0   |  16.0 |    Adam   | CrossEntropyLoss |  5.0  |         |           |  0.839   |   0.723   |  1.0   |  0.723   |\n",
      "| Model B | 2D-CNN |    Number of units    |   16 - 256   |  1.0   |  16.0 |    Adam   | CrossEntropyLoss |  5.0  |         |           |   0.94   |   0.953   | 0.928  |  0.914   |\n",
      "| Model B | 2D-CNN |    Number of units    |   16 - 256   |  1.0   |  32.0 |    Adam   | CrossEntropyLoss |  5.0  |         |           |   0.93   |    0.94   | 0.921  |   0.9    |\n",
      "| Model B | 2D-CNN |    Number of units    |   16 - 256   |  1.0   |  64.0 |    Adam   | CrossEntropyLoss |  5.0  |         |           |  0.977   |   0.975   |  0.98  |  0.967   |\n",
      "| Model B | 2D-CNN |    Number of units    |   16 - 256   |  1.0   | 128.0 |    Adam   | CrossEntropyLoss |  5.0  |         |           |  0.973   |   0.952   | 0.995  |   0.96   |\n",
      "| Model B | 2D-CNN |    Number of units    |   16 - 256   |  1.0   | 256.0 |    Adam   | CrossEntropyLoss |  5.0  |         |           |  0.977   |   0.977   | 0.977  |  0.967   |\n",
      "| Model B | 2D-CNN |        Dropout        |  0.1 - 0.5   |  1.0   |  16.0 |    Adam   | CrossEntropyLoss |  5.0  |   0.1   |           |  0.943   |   0.977   | 0.911  |   0.92   |\n",
      "| Model B | 2D-CNN |        Dropout        |  0.1 - 0.5   |  1.0   |  16.0 |    Adam   | CrossEntropyLoss |  5.0  |   0.2   |           |  0.954   |   0.956   | 0.951  |  0.933   |\n",
      "| Model B | 2D-CNN |        Dropout        |  0.1 - 0.5   |  1.0   |  16.0 |    Adam   | CrossEntropyLoss |  5.0  |   0.3   |           |  0.951   |   0.979   | 0.924  |  0.931   |\n",
      "| Model B | 2D-CNN |        Dropout        |  0.1 - 0.5   |  1.0   |  16.0 |    Adam   | CrossEntropyLoss |  5.0  |   0.4   |           |  0.943   |   0.955   | 0.932  |  0.919   |\n",
      "| Model B | 2D-CNN |        Dropout        |  0.1 - 0.5   |  1.0   |  16.0 |    Adam   | CrossEntropyLoss |  5.0  |   0.5   |           |  0.953   |   0.978   |  0.93  |  0.934   |\n",
      "| Model B | 2D-CNN |       Threshold       |  0.1 - 0.4   |  1.0   |  16.0 |    Adam   | CrossEntropyLoss |  5.0  |   0.1   |           |  0.955   |   0.975   | 0.936  |  0.936   |\n",
      "| Model B | 2D-CNN |       Threshold       |  0.1 - 0.4   |  1.0   |  16.0 |    Adam   | CrossEntropyLoss |  5.0  |   0.2   |           |   0.95   |   0.958   | 0.941  |  0.928   |\n",
      "| Model B | 2D-CNN |       Threshold       |  0.1 - 0.4   |  1.0   |  16.0 |    Adam   | CrossEntropyLoss |  5.0  |   0.3   |           |  0.942   |   0.953   | 0.932  |  0.918   |\n",
      "| Model B | 2D-CNN |       Threshold       |  0.1 - 0.4   |  1.0   |  16.0 |    Adam   | CrossEntropyLoss |  5.0  |   0.4   |           |  0.946   |   0.959   | 0.933  |  0.923   |\n",
      "| ------- | ------ | --------------------- |              |  ---   | ----- |    ----   | ---------------- |  ---  |  -----  |           |  -----   |   -----   | -----  |   ----   |\n",
      "| Model B | 2D-CNN | Best performing model |              |  3.0   | 139.0 |    Adam   | CrossEntropyLoss |  5.0  |  0.248  |           |  0.972   |   0.961   | 0.985  |   0.96   |\n",
      "+---------+--------+-----------------------+--------------+--------+-------+-----------+------------------+-------+---------+-----------+----------+-----------+--------+----------+\n"
     ]
    }
   ],
   "source": [
    "import pandas as pd\n",
    "import matplotlib.pyplot as plt\n",
    "from prettytable import PrettyTable\n",
    "from io import BytesIO\n",
    "from PIL import Image\n",
    "\n",
    "# Function to load data from a .txt file, display it as a table using PrettyTable, and save it as an image\n",
    "def display_and_save_table(file_path, output_image_path):\n",
    "    # Load the data into a DataFrame\n",
    "    data = pd.read_table(file_path, delimiter='\\t')\n",
    "\n",
    "    # Replace NaN values with empty spaces\n",
    "    data = data.fillna('')\n",
    "    \n",
    "    # Create PrettyTable object\n",
    "    table = PrettyTable()\n",
    "    table.field_names = data.columns.tolist()\n",
    "    \n",
    "    # Add rows to the table, add an extra border before the last row\n",
    "    for index, row in data.iterrows():\n",
    "        if index == len(data) - 1:  # Add a separating border before the last row\n",
    "            table.add_row([\"-\" * len(str(value)) for value in row.tolist()])\n",
    "        table.add_row(row.tolist())\n",
    "    \n",
    "    # Print the table in PrettyTable format\n",
    "    print(table)\n",
    "    \n",
    "    # Save the table as an image using matplotlib\n",
    "    fig, ax = plt.subplots(figsize=(12, 6))\n",
    "    ax.text(0.05, 0.95, str(table), fontsize=10, va='top', ha='left', family='monospace')\n",
    "    ax.axis('off')\n",
    "    \n",
    "    # Save the figure as an image\n",
    "    plt.savefig(output_image_path, bbox_inches='tight', dpi=300)\n",
    "    plt.close()\n",
    "\n",
    "# Example usage\n",
    "file_path = '../data/table.txt'  # Replace with your .txt file path\n",
    "output_image_path = 'table_image.png'  # Replace with your desired output image path\n",
    "display_and_save_table(file_path, output_image_path)"
   ]
  }
 ],
 "metadata": {
  "kernelspec": {
   "display_name": ".venv",
   "language": "python",
   "name": "python3"
  },
  "language_info": {
   "codemirror_mode": {
    "name": "ipython",
    "version": 3
   },
   "file_extension": ".py",
   "mimetype": "text/x-python",
   "name": "python",
   "nbconvert_exporter": "python",
   "pygments_lexer": "ipython3",
   "version": "3.11.5"
  }
 },
 "nbformat": 4,
 "nbformat_minor": 2
}

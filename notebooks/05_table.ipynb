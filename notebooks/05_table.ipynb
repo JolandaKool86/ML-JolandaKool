{
 "cells": [
  {
   "cell_type": "code",
   "execution_count": 5,
   "metadata": {},
   "outputs": [
    {
     "name": "stdout",
     "output_type": "stream",
     "text": [
      "+---------+-----------------------+----------------------+--------+-------+-----------+------------------+-------+---------+-----------+----------+-----------+--------+----------+\n",
      "|  Model  |       Experiment      |     Tested range     | Layers | Units | Optimizer |  Loss function   | Epoch | Dropout | Threshold | F1 score | precision | recall | accuracy |\n",
      "+---------+-----------------------+----------------------+--------+-------+-----------+------------------+-------+---------+-----------+----------+-----------+--------+----------+\n",
      "| Model A |       Benchmark       |                      |   1    |   16  |    Adam   | CrossEntropyLoss |   5   |         |           |   0.94   |   0.953   | 0.928  |  0.914   |\n",
      "|         |     Residual layer    |                      |   1    |   16  |    Adam   | CrossEntropyLoss |   5   |         |           |   0.96   |   0.954   | 0.965  |  0.941   |\n",
      "|         |    Batch norm (2x)    |                      |   1    |   16  |    Adam   | CrossEntropyLoss |   5   |         |           |  0.942   |    0.95   | 0.935  |  0.917   |\n",
      "|         |        Maxpool        |                      |   1    |   16  |    Adam   | CrossEntropyLoss |   5   |         |           |  0.947   |   0.978   | 0.918  |  0.926   |\n",
      "|         |        Dropout        |      0.1 - 0.5       |   1    |   16  |    Adam   | CrossEntropyLoss |   5   |   0.2   |           |  0.954   |   0.956   | 0.951  |  0.933   |\n",
      "|         |    Number of layers   |         1 - 6        |   3    |   16  |    Adam   | CrossEntropyLoss |   5   |         |           |  0.951   |   0.935   | 0.967  |  0.928   |\n",
      "|         |    Number of units    | 16, 32, 64, 128, 256 |   1    |   64  |    Adam   | CrossEntropyLoss |   5   |         |           |  0.977   |   0.975   |  0.98  |  0.967   |\n",
      "|         |    Adding threshold   |      0.1 - 0.4       |   1    |   16  |    Adam   | CrossEntropyLoss |   5   |         |    0.2    |   0.95   |   0.958   | 0.941  |  0.928   |\n",
      "|         | --------------------- |                      |   -    |   --  |    ----   | ---------------- |   -   |   ---   |           |  -----   |   -----   | -----  |   ----   |\n",
      "|         | Best performing model |                      |   3    |   64  |    Adam   | CrossEntropyLoss |   5   |   0.2   |           |  0.972   |   0.961   | 0.985  |   0.96   |\n",
      "+---------+-----------------------+----------------------+--------+-------+-----------+------------------+-------+---------+-----------+----------+-----------+--------+----------+\n"
     ]
    }
   ],
   "source": [
    "import pandas as pd\n",
    "import matplotlib.pyplot as plt\n",
    "from prettytable import PrettyTable\n",
    "from io import BytesIO\n",
    "from PIL import Image\n",
    "\n",
    "# Function to load data from a .txt file, display it as a table using PrettyTable, and save it as an image\n",
    "def display_and_save_table(file_path, output_image_path):\n",
    "    # Load the data into a DataFrame\n",
    "    data = pd.read_table(file_path, delimiter='\\t')\n",
    "\n",
    "    # Replace NaN values with empty spaces\n",
    "    data = data.fillna('')\n",
    "    \n",
    "    # Create PrettyTable object\n",
    "    table = PrettyTable()\n",
    "    table.field_names = data.columns.tolist()\n",
    "    \n",
    "    # Add rows to the table, add an extra border before the last row\n",
    "    for index, row in data.iterrows():\n",
    "        if index == len(data) - 1:  # Add a separating border before the last row\n",
    "            table.add_row([\"-\" * len(str(value)) for value in row.tolist()])\n",
    "        table.add_row(row.tolist())\n",
    "    \n",
    "    # Print the table in PrettyTable format\n",
    "    print(table)\n",
    "    \n",
    "    # Save the table as an image using matplotlib\n",
    "    fig, ax = plt.subplots(figsize=(12, 6))\n",
    "    ax.text(0.05, 0.95, str(table), fontsize=10, va='top', ha='left', family='monospace')\n",
    "    ax.axis('off')\n",
    "    \n",
    "    # Save the figure as an image\n",
    "    plt.savefig(output_image_path, bbox_inches='tight', dpi=300)\n",
    "    plt.close()\n",
    "\n",
    "# Example usage\n",
    "file_path = '../data/table.txt'  # Replace with your .txt file path\n",
    "output_image_path = 'table_image.png'  # Replace with your desired output image path\n",
    "display_and_save_table(file_path, output_image_path)"
   ]
  }
 ],
 "metadata": {
  "kernelspec": {
   "display_name": ".venv",
   "language": "python",
   "name": "python3"
  },
  "language_info": {
   "codemirror_mode": {
    "name": "ipython",
    "version": 3
   },
   "file_extension": ".py",
   "mimetype": "text/x-python",
   "name": "python",
   "nbconvert_exporter": "python",
   "pygments_lexer": "ipython3",
   "version": "3.11.5"
  }
 },
 "nbformat": 4,
 "nbformat_minor": 2
}
